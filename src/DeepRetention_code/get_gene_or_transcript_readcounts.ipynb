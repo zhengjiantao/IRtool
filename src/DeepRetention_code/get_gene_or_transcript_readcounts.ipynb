{
 "cells": [
  {
   "cell_type": "code",
   "execution_count": 8,
   "metadata": {},
   "outputs": [],
   "source": [
    "import os\n",
    "import pandas as pd\n",
    "from collections import defaultdict\n",
    "from functools import reduce"
   ]
  },
  {
   "cell_type": "code",
   "execution_count": 17,
   "metadata": {},
   "outputs": [],
   "source": [
    "GSE = \"Cell_GSE57249\"\n",
    "path = \"/root/userfolder/quantify/\"+GSE\n",
    "SRR = pd.read_csv(os.path.join(path, \"SRR.list\"),header=None)[0].values.tolist()\n",
    "\n",
    "# key: sample, value: {geneid:readcounts}\n",
    "transcript = defaultdict(dict)\n",
    "gene = defaultdict(dict)\n",
    "\n",
    "for sample in SRR:\n",
    "    genefile = os.path.join(path, \"iREAD/RSEM\", sample+\"_res\", sample+\".genes.results\")\n",
    "    tranfile = os.path.join(path, \"iREAD/RSEM\", sample+\"_res\", sample+\".isoforms.results\")\n",
    "    gene_pd = pd.read_csv(genefile, sep=\"\\t\")[[\"gene_id\", \"TPM\"]].values.tolist()\n",
    "    tran_pd = pd.read_csv(tranfile, sep=\"\\t\")[[\"transcript_id\", \"TPM\"]].values.tolist()\n",
    "    gene[sample] = dict(zip([i[0] for i in gene_pd], [i[1] for i in gene_pd]))\n",
    "    transcript[sample] = dict(zip([i[0] for i in tran_pd], [i[1] for i in tran_pd]))"
   ]
  },
  {
   "cell_type": "code",
   "execution_count": 18,
   "metadata": {},
   "outputs": [],
   "source": [
    "#### get gene read counts\n",
    "intersect_genes = defaultdict(list)\n",
    "for sample,value in gene.items():\n",
    "    intersect_genes[sample] = list(value.keys())\n",
    "allgene = list(intersect_genes.values())\n",
    "unions = reduce(lambda a,b: list(set(a).union(b)), allgene)\n",
    "gene_read_counts = {}\n",
    "for s in SRR:\n",
    "    value = []\n",
    "    for g in unions:\n",
    "        if g not in gene[s]:\n",
    "            value.append(0)\n",
    "        else:\n",
    "            value.append(gene[s][g])\n",
    "    gene_read_counts[s] = value\n",
    "gene_read_counts = pd.DataFrame(gene_read_counts)\n",
    "gene_read_counts.rename(index=dict(zip(list(range(0,gene_read_counts.shape[0])), unions)),inplace=True)\n",
    "gene_read_counts.to_csv(GSE+\"_IR_gene_TPM.txt\",sep=\"\\t\")"
   ]
  },
  {
   "cell_type": "code",
   "execution_count": 19,
   "metadata": {},
   "outputs": [],
   "source": [
    "#### get transcript read counts\n",
    "intersect = defaultdict(list)\n",
    "for sample,value in transcript.items():\n",
    "    intersect[sample] = list(value.keys())\n",
    "allid = list(intersect.values())\n",
    "unions = reduce(lambda a,b: list(set(a).union(b)), allid)\n",
    "read_counts = {}\n",
    "for s in SRR:\n",
    "    value = []\n",
    "    for u in unions:\n",
    "        if u not in transcript[s]:\n",
    "            value.append(0)\n",
    "        else:\n",
    "            value.append(transcript[s][u])\n",
    "    read_counts[s] = value\n",
    "read_counts = pd.DataFrame(read_counts)\n",
    "read_counts.rename(index=dict(zip(list(range(0,read_counts.shape[0])), unions)),inplace=True)\n",
    "read_counts.to_csv(GSE+\"_IR_transcript_TPM.txt\",sep=\"\\t\")"
   ]
  }
 ],
 "metadata": {
  "kernelspec": {
   "display_name": "Python 3",
   "language": "python",
   "name": "python3"
  },
  "language_info": {
   "codemirror_mode": {
    "name": "ipython",
    "version": 3
   },
   "file_extension": ".py",
   "mimetype": "text/x-python",
   "name": "python",
   "nbconvert_exporter": "python",
   "pygments_lexer": "ipython3",
   "version": "3.8.3"
  }
 },
 "nbformat": 4,
 "nbformat_minor": 4
}
